{
 "cells": [
  {
   "cell_type": "code",
   "execution_count": 7,
   "metadata": {},
   "outputs": [
    {
     "name": "stdout",
     "output_type": "stream",
     "text": [
      "Number of training data points: 7613\n",
      "Number of test data points: 3263\n"
     ]
    }
   ],
   "source": [
    "import pandas as pd\n",
    "import numpy as np\n",
    "import seaborn as sns\n",
    "import statsmodels.api as sm\n",
    "import re\n",
    "from sklearn import feature_extraction, linear_model, model_selection, preprocessing\n",
    "from sklearn.feature_extraction.text import CountVectorizer\n",
    "from sklearn.linear_model import LogisticRegression\n",
    "from sklearn.metrics import f1_score\n",
    "import matplotlib.pyplot as plt\n",
    "\n",
    "\n",
    "########## 1. Download the Data ##########\n",
    "\n",
    "train = pd.read_csv('train.csv')\n",
    "test = pd.read_csv('test.csv')\n",
    "\n",
    "# 1A How many training and test data points are there?\n",
    "\n",
    "print(f\"Number of training data points: {train.shape[0]}\")\n",
    "print(f\"Number of test data points: {test.shape[0]}\")"
   ]
  },
  {
   "cell_type": "code",
   "execution_count": 8,
   "metadata": {},
   "outputs": [
    {
     "name": "stdout",
     "output_type": "stream",
     "text": [
      "the percentage of real disasters in the training set is: 42.97 % \n",
      "the percentage of tweets that are not actual disasters in the training set is: 57.03%\n"
     ]
    }
   ],
   "source": [
    "# 1A what percentage of the training tweets are real disasters and are not?\n",
    "\n",
    "percent_real = (train[\"target\"].sum()/ train.shape[0]) * 100\n",
    "print(f\"the percentage of real disasters in the training set is: {round(percent_real, 2)} % \")\n",
    "print(f\"the percentage of tweets that are not actual disasters in the training set is: {round(100 - percent_real,2)}%\")\n",
    "\n"
   ]
  },
  {
   "cell_type": "code",
   "execution_count": 9,
   "metadata": {},
   "outputs": [],
   "source": [
    "# 1b Split the training data set into a training set and development set 70/30\n",
    "\n",
    "training_split = train.sample(frac = .70)\n",
    "development_split = train.drop(training_split.index)"
   ]
  },
  {
   "cell_type": "code",
   "execution_count": 10,
   "metadata": {},
   "outputs": [],
   "source": [
    "# 1C Preprocess the data\n",
    "\n",
    "# 1C - overting all letters to lowercase\n",
    "training_split['text'] = training_split.text.apply(lambda x: x.lower())\n",
    "development_split['text'] = development_split.text.apply(lambda x: x.lower())"
   ]
  },
  {
   "cell_type": "code",
   "execution_count": 11,
   "metadata": {},
   "outputs": [],
   "source": [
    "# 1C -  remove all special characters and punctuation\n",
    "\n",
    "training_split['text'] = training_split['text'].replace(r'[^\\w\\s]|_', '', regex=True)\n",
    "development_split['text'] = development_split['text'].replace(r'[^\\w\\s]|_', '', regex=True)\n"
   ]
  },
  {
   "cell_type": "code",
   "execution_count": 12,
   "metadata": {},
   "outputs": [],
   "source": [
    "# 1C - remove all URLS (e.g. https and www.)\n",
    "\n",
    "training_split['text'] = training_split['text'].replace(r'http\\S+|www.\\.\\S+', '', regex=True)\n",
    "development_split['text'] = development_split['text'].replace(r'http\\S+|www.\\.\\S+', '', regex=True)"
   ]
  },
  {
   "cell_type": "code",
   "execution_count": 13,
   "metadata": {},
   "outputs": [],
   "source": [
    "# 1C - strip all the stop words (e.g. the, and, or)\n",
    "\n",
    "\n",
    "training_split['text'] = training_split['text'].replace(r'(\\s*\\b(?:a|an|and|are|as|at|be|but|by|for|if|in|into|is|it|no|not|of|on|or|such|that|the|their|then|there|these|they|this|to|was|will|with|my|oh|i|were|werent|was|wasnt|do|does))\\b', '', regex=True)\n",
    "development_split['text'] = development_split['text'].replace(r'(\\s*\\b(?:a|an|and|are|as|at|be|but|by|for|if|in|into|is|it|no|not|of|on|or|such|that|the|their|then|there|these|they|this|to|was|will|with|my|oh|i|were|werent|was|wasnt|do|does))\\b', '', regex=True)\n"
   ]
  },
  {
   "cell_type": "code",
   "execution_count": 14,
   "metadata": {},
   "outputs": [
    {
     "name": "stderr",
     "output_type": "stream",
     "text": [
      "[nltk_data] Downloading package punkt to\n",
      "[nltk_data]     /Users/joshuamisir/nltk_data...\n",
      "[nltk_data]   Package punkt is already up-to-date!\n",
      "[nltk_data] Downloading package averaged_perceptron_tagger to\n",
      "[nltk_data]     /Users/joshuamisir/nltk_data...\n",
      "[nltk_data]   Package averaged_perceptron_tagger is already up-to-\n",
      "[nltk_data]       date!\n",
      "[nltk_data] Downloading package wordnet to\n",
      "[nltk_data]     /Users/joshuamisir/nltk_data...\n",
      "[nltk_data]   Package wordnet is already up-to-date!\n"
     ]
    }
   ],
   "source": [
    "# 1C - Lemmatize all the words\n",
    "\n",
    "import nltk\n",
    "nltk.download('punkt')\n",
    "nltk.download('averaged_perceptron_tagger')\n",
    "nltk.download('wordnet')\n",
    "from nltk.corpus import wordnet\n",
    "from nltk import tokenize, stem, corpus\n",
    "\n",
    "\n",
    "lemmatizer = stem.WordNetLemmatizer()\n",
    "\n",
    "# Get the POS Tag for lemmatization (reference: https://medium.com/@yashj302/lemmatization-f134b3089429 )\n",
    "def get_wordnet_pos(word):\n",
    "    tag = nltk.pos_tag([word])[0][1][0].lower()\n",
    "    tag_dict = {'j': corpus.wordnet.ADJ,\n",
    "                'n': corpus.wordnet.NOUN,\n",
    "                'v': corpus.wordnet.VERB,\n",
    "                'r': corpus.wordnet.ADV}\n",
    "    return tag_dict.get(tag, corpus.wordnet.NOUN)\n",
    "\n",
    "# apply lemmatizer on the text column\n",
    "training_split['text'] = training_split.text.apply(lambda x: ' '.join([lemmatizer.lemmatize(y, get_wordnet_pos(y)) for y in tokenize.word_tokenize(x)]))\n",
    "development_split['text'] = development_split.text.apply(lambda x: ' '.join([lemmatizer.lemmatize(y, get_wordnet_pos(y)) for y in tokenize.word_tokenize(x)]))\n"
   ]
  },
  {
   "cell_type": "code",
   "execution_count": 15,
   "metadata": {},
   "outputs": [],
   "source": [
    "# 1d) Bag of words model & determining optimal M\n",
    "\n",
    "f1_trainlist = []\n",
    "f1_devlist = []\n",
    "\n",
    "# threshold for bag of words \n",
    "for M in range(12, 30):\n",
    "\n",
    "# Perform CountVectorizer on text. This creates three numbers:\n",
    "# 1) list of rows which represent tweets\n",
    "# 2) a feature index which represents a distinct word within that tweet \n",
    "# 3) a count which represents how many times that word has been used\n",
    "    \n",
    "    count_vect = CountVectorizer(binary=True, min_df=M)\n",
    "    X_train = count_vect.fit_transform(training_split['text'])\n",
    "\n",
    "    # need to make dev set transformed to fit X_train size\n",
    "    X_dev = count_vect.transform(development_split['text'])\n",
    "\n",
    "    # create logistic model\n",
    "    logreg = LogisticRegression(multi_class='auto', penalty='none', max_iter=3000)\n",
    "    logreg.fit(X_train, training_split['target'].values)\n",
    "\n",
    "    # calculate F1 score\n",
    "    f1_train = f1_score(training_split['target'].values, logreg.predict(X_train))\n",
    "    f1_dev = f1_score(development_split['target'].values, logreg.predict(X_dev))\n",
    "\n",
    "    f1_trainlist.append(f1_train)\n",
    "    f1_devlist.append(f1_dev)"
   ]
  },
  {
   "cell_type": "code",
   "execution_count": 16,
   "metadata": {},
   "outputs": [
    {
     "data": {
      "image/png": "[encoded data removed]",
      "text/plain": [
       "<Figure size 432x288 with 1 Axes>"
      ]
     },
     "metadata": {
      "needs_background": "light"
     },
     "output_type": "display_data"
    }
   ],
   "source": [
    "# plot to determine optimal M\n",
    "plt.plot(range(12, 30), f1_trainlist, label=\"Training Set\")\n",
    "plt.plot(range(12, 30), f1_devlist, label=\"Dev Set\")\n",
    "plt.xlabel(\"M Threshold\")\n",
    "plt.ylabel(\"F1-Score\")\n",
    "leg = plt.legend(loc='upper right')\n",
    "plt.show()\n",
    "\n",
    "# F1-Dev Score is maxed at ~M = 13"
   ]
  },
  {
   "cell_type": "code",
   "execution_count": 17,
   "metadata": {},
   "outputs": [],
   "source": [
    "M = 13\n",
    "\n",
    "# Perform CountVectorizer on text\n",
    "count_vect = CountVectorizer(binary=True, min_df=M)\n",
    "X_train = count_vect.fit_transform(training_split['text'])\n",
    "\n",
    "# need to make dev set transformed to fit X_train size\n",
    "X_dev = count_vect.transform(development_split['text'])"
   ]
  },
  {
   "cell_type": "code",
   "execution_count": 18,
   "metadata": {},
   "outputs": [
    {
     "name": "stdout",
     "output_type": "stream",
     "text": [
      "Training set with no regularization terms F1-Score is: 0.8214450069028992\n",
      "Development set with no regularization terms F1-Score is: 0.736344537815126\n"
     ]
    }
   ],
   "source": [
    "# 1e) i - LogisticRegression with no regularization. Penalty = none\n",
    "\n",
    "# The F1 score on the training set is higher than the F1 score on the development set which contains unseen data\n",
    "# This is an example of  overfitting. \n",
    "# Our model is too strongly fitted to the training data when there is no regularization in the Logistic Regression\n",
    "# This is due to the fact that there is no regularization factor in this logistic regression.\n",
    "# The lack of regularization makes this model too sensative to the \"noise\" (data points that dont truly represent the data) \n",
    "# in the data set\n",
    "\n",
    "logreg = LogisticRegression(multi_class='ovr', penalty='none', max_iter=2500)\n",
    "logreg.fit(X_train, training_split['target'].values)\n",
    "\n",
    "# calculate F1 score\n",
    "f1_train = f1_score(training_split['target'].values, logreg.predict(X_train))\n",
    "f1_dev = f1_score(development_split['target'].values, logreg.predict(X_dev))\n",
    "\n",
    "\n",
    "# print F1 values out\n",
    "#print(f\"Training set with no regularization terms F1-Score is: {round(f1_train,3)}\")\n",
    "#print(f\"Development set with no regularization terms F1-Score is: {round(f1_dev,3)}\")\n",
    "\n",
    "print(f\"Training set with no regularization terms F1-Score is: {f1_train}\")\n",
    "print(f\"Development set with no regularization terms F1-Score is: {f1_dev}\")"
   ]
  },
  {
   "cell_type": "code",
   "execution_count": 19,
   "metadata": {},
   "outputs": [
    {
     "name": "stdout",
     "output_type": "stream",
     "text": [
      "Training set with L2 regularization F1-Score is 0.7987689393939394\n",
      "Development set with L2 regularization F1-Score is 0.7473118279569892\n"
     ]
    }
   ],
   "source": [
    "# 1e) ii - LogisticRegression with L1 regularization. \n",
    "\n",
    "\n",
    "logreg1 = LogisticRegression(penalty='l1', max_iter=2500, solver='liblinear')\n",
    "logreg1.fit(X_train, training_split['target'].values)\n",
    "\n",
    "# calculate F1 score\n",
    "f1_train_reg1 = f1_score(training_split['target'].values, logreg1.predict(X_train))\n",
    "f1_dev_reg1 = f1_score(development_split['target'].values, logreg1.predict(X_dev))\n",
    "\n",
    "\n",
    "#print F1 values out\n",
    "print(f\"Training set with L2 regularization F1-Score is {f1_train_reg1}\")\n",
    "print(f\"Development set with L2 regularization F1-Score is {f1_dev_reg1}\")"
   ]
  },
  {
   "cell_type": "code",
   "execution_count": 20,
   "metadata": {},
   "outputs": [
    {
     "name": "stdout",
     "output_type": "stream",
     "text": [
      "Training set with L2 regularization F1-Score is 0.8017848755284172\n",
      "Development set with L2 regularization F1-Score is 0.7545164718384697\n"
     ]
    }
   ],
   "source": [
    "# 1e) iii - LogisticRegression with L2 regularization. \n",
    "\n",
    "\n",
    "logreg2 = LogisticRegression(penalty='l2', max_iter=2500)\n",
    "logreg2.fit(X_train, training_split['target'].values)\n",
    "\n",
    "# calculate F1 score\n",
    "f1_train_reg2 = f1_score(training_split['target'].values, logreg2.predict(X_train))\n",
    "f1_dev_reg2 = f1_score(development_split['target'].values, logreg2.predict(X_dev))\n",
    "\n",
    "\n",
    "#print F1 values out\n",
    "print(f\"Training set with L2 regularization F1-Score is {f1_train_reg2}\")\n",
    "print(f\"Development set with L2 regularization F1-Score is {f1_dev_reg2}\")"
   ]
  },
  {
   "cell_type": "code",
   "execution_count": null,
   "metadata": {},
   "outputs": [],
   "source": [
    "# 1e) iv - Which one of the three classifiers performed the best on your training and development set?\n",
    "\n",
    "# The best performing model on both the training and development set was the \n",
    "# Logistic Regression with L2 regularization. \n",
    "# The superior outcomes for this logistic regression can best be explained by the fact that L2\n",
    "# squares the magnitude of the coeffecicients whereas the L1 regularization takes the absolute value\n",
    "# of the coeffecients\n"
   ]
  },
  {
   "cell_type": "code",
   "execution_count": 59,
   "metadata": {},
   "outputs": [
    {
     "name": "stdout",
     "output_type": "stream",
     "text": [
      "['40', 'bioterror', 'bomber', 'bombing', 'bus', 'california', 'case', 'casualty', 'crew', 'crisis', 'cyclone', 'debris', 'derailment', 'drought', 'earthquake', 'explosion', 'fire', 'hiroshima', 'hurricane', 'israeli', 'japan', 'massacre', 'mh370', 'migrant', 'murder', 'murderer', 'muslim', 'outbreak', 'refugee', 'severe', 'sinkhole', 'south', 'spill', 'storm', 'suspect', 'swallow', 'terrorist', 'train', 'typhoon', 'village', 'volcano', 'wildfire']\n"
     ]
    }
   ],
   "source": [
    "# 1e) v.  Inspect weight vector of classifier with L1 regularization\n",
    "\n",
    "# retrieve index from coefficiets that are greater than a value\n",
    "impt_index = [i for i,v in enumerate(logreg1.coef_.tolist()[0]) if v > 1.5]\n",
    "\n",
    "# map the index to the actual words\n",
    "impt_words = [count_vect.get_feature_names()[i] for i in impt_index]\n",
    "\n",
    "# The most important words in determining if the Tweet was a real disaster\n",
    "print(impt_words) "
   ]
  },
  {
   "cell_type": "code",
   "execution_count": null,
   "metadata": {},
   "outputs": [],
   "source": [
    "# The most important words in determining if the Tweet was a real\n",
    "# disaster or not are listed below\n",
    "\n",
    "# '40', 'bioterror', 'bomber', 'bombing', 'bus', 'california', 'case'\n",
    "#  casualty', 'crew', 'crisis', 'cyclone', 'debris', 'derailment'\n",
    "# 'earthquake', 'explosion', 'fire', 'hiroshima', 'hurricane', 'israeli', \n",
    "# japan', 'massacre', 'mh370', 'migrant', 'murder', 'murderer', 'muslim',\n",
    "# 'outbreak', 'refugee', 'severe', 'sinkhole', 'south', 'spill', 'storm',\n",
    "# 'suspect', 'swallow', 'terrorist', 'train', 'typhoon', 'village'\n",
    "# 'volcano', 'wildfire'"
   ]
  },
  {
   "cell_type": "code",
   "execution_count": null,
   "metadata": {},
   "outputs": [],
   "source": []
  },
  {
   "cell_type": "code",
   "execution_count": null,
   "metadata": {},
   "outputs": [],
   "source": []
  },
  {
   "cell_type": "code",
   "execution_count": null,
   "metadata": {},
   "outputs": [],
   "source": []
  },
  {
   "cell_type": "code",
   "execution_count": null,
   "metadata": {},
   "outputs": [],
   "source": []
  },
  {
   "cell_type": "code",
   "execution_count": null,
   "metadata": {},
   "outputs": [],
   "source": []
  },
  {
   "cell_type": "code",
   "execution_count": 61,
   "metadata": {},
   "outputs": [
    {
     "data": {
      "text/plain": [
       "798"
      ]
     },
     "execution_count": 61,
     "metadata": {},
     "output_type": "execute_result"
    }
   ],
   "source": [
    "X_train.shape[1]"
   ]
  },
  {
   "cell_type": "code",
   "execution_count": 73,
   "metadata": {},
   "outputs": [
    {
     "name": "stdout",
     "output_type": "stream",
     "text": [
      "[0.57421655 0.42578345]\n"
     ]
    }
   ],
   "source": [
    "#1f) Bernoulli Naive Bayes\n",
    "\n",
    "# laplace smoothing parameter\n",
    "alpha = .01\n",
    "\n",
    "# create array of target values\n",
    "y_train = training_split['target'].values\n",
    "\n",
    "# convert Xtrain to array for manipulation\n",
    "#X_train = X_train.toarray()\n",
    "n = X_train.shape[0]    # size of the data set\n",
    "d = X_train.shape[1]    # number of features in the data set\n",
    "K = 2                   #number of classes (Real/not real disasters)\n",
    "\n",
    "# initialize shapes of parameters\n",
    "\n",
    "#An array with two rows (classes, K) and 798 cols (features, d)\n",
    "psis = np.zeros([K,d]) \n",
    "\n",
    "# An array with K (2) number of rows\n",
    "phis = np.zeros([K])\n",
    "\n",
    "\n",
    "# calculate the parameters, and apply alpha\n",
    "for k in range(K):\n",
    "    X_k = X_train[y_train == k]\n",
    "    psis[k] = (np.sum(X_k, axis=0) + alpha)/(X_k.shape[0] + 2*alpha)\n",
    "    phis[k] = X_k.shape[0] / float(n)\n",
    "    \n",
    "print(phis)"
   ]
  },
  {
   "cell_type": "code",
   "execution_count": 74,
   "metadata": {},
   "outputs": [
    {
     "data": {
      "text/plain": [
       "0.807280915744042"
      ]
     },
     "execution_count": 74,
     "metadata": {},
     "output_type": "execute_result"
    }
   ],
   "source": [
    "def nb_predictions(x, psis, phis):\n",
    "    \"\"\"This returns class assignments and scores under the NB model.\n",
    "    \n",
    "    We compute \\arg\\max_y p(y|x) as \\arg\\max_y p(x|y)p(y)\n",
    "    \"\"\"\n",
    "    # adjust shapes\n",
    "    n, d = x.shape\n",
    "    x = np.reshape(x, (1, n, d))\n",
    "    psis = np.reshape(psis, (K, 1, d))\n",
    "    \n",
    "    # clip probabilities to avoid log(0)\n",
    "    psis = psis.clip(1e-14, 1-1e-14)\n",
    "    \n",
    "    # compute log-probabilities\n",
    "    logpy = np.log(phis).reshape([K,1])\n",
    "    logpxy = x * np.log(psis) + (1-x) * np.log(1-psis)\n",
    "    logpyx = logpxy.sum(axis=2) + logpy\n",
    "\n",
    "    return logpyx.argmax(axis=0).flatten(), logpyx.reshape([K,n])\n",
    "\n",
    "idx_train, logpyx_train = nb_predictions(X_train, psis, phis)\n",
    "\n",
    "\n",
    "(idx_train==y_train).mean()"
   ]
  },
  {
   "cell_type": "code",
   "execution_count": 75,
   "metadata": {},
   "outputs": [
    {
     "data": {
      "text/plain": [
       "0.7876532399299475"
      ]
     },
     "execution_count": 75,
     "metadata": {},
     "output_type": "execute_result"
    }
   ],
   "source": [
    "\n",
    "# calculate the predictions for dev set\n",
    "\n",
    "# TODO: Need to confirm with TA if wording is correct. \"You may find some words in vocabulary occur in development set but are not in the training set\"\n",
    "y_dev = development_split['target'].values\n",
    "\n",
    "# convert Xtrain to array for manipulation\n",
    "X_dev = X_dev.toarray()\n",
    "\n",
    "idx_dev, logpyx_train = nb_predictions(X_dev, psis, phis)\n",
    "\n",
    "# calculate the accurary\n",
    "(idx_dev==y_dev).mean()"
   ]
  },
  {
   "cell_type": "code",
   "execution_count": null,
   "metadata": {},
   "outputs": [],
   "source": [
    "##  "
   ]
  },
  {
   "cell_type": "code",
   "execution_count": null,
   "metadata": {},
   "outputs": [],
   "source": []
  },
  {
   "cell_type": "code",
   "execution_count": null,
   "metadata": {},
   "outputs": [],
   "source": [
    "training_split.head(100)"
   ]
  },
  {
   "cell_type": "code",
   "execution_count": null,
   "metadata": {},
   "outputs": [],
   "source": [
    "development_split.head(100)"
   ]
  },
  {
   "cell_type": "code",
   "execution_count": null,
   "metadata": {},
   "outputs": [],
   "source": []
  }
 ],
 "metadata": {
  "kernelspec": {
   "display_name": "Python 3",
   "language": "python",
   "name": "python3"
  },
  "language_info": {
   "codemirror_mode": {
    "name": "ipython",
    "version": 3
   },
   "file_extension": ".py",
   "mimetype": "text/x-python",
   "name": "python",
   "nbconvert_exporter": "python",
   "pygments_lexer": "ipython3",
   "version": "3.7.6"
  }
 },
 "nbformat": 4,
 "nbformat_minor": 4
}
