{
 "cells": [
  {
   "cell_type": "code",
   "execution_count": 1,
   "metadata": {},
   "outputs": [
    {
     "name": "stdout",
     "output_type": "stream",
     "text": [
      "Number of training data points: 7613\n",
      "Number of test data points: 3263\n"
     ]
    }
   ],
   "source": [
    "import pandas as pd\n",
    "import numpy as np\n",
    "import seaborn as sns\n",
    "import statsmodels.api as sm\n",
    "import re\n",
    "from sklearn import feature_extraction, linear_model, model_selection, preprocessing\n",
    "from sklearn.feature_extraction.text import CountVectorizer\n",
    "from sklearn.linear_model import LogisticRegression\n",
    "from sklearn.metrics import f1_score\n",
    "import matplotlib.pyplot as plt\n",
    "\n",
    "\n",
    "########## 1. Download the Data ##########\n",
    "\n",
    "train = pd.read_csv('train.csv')\n",
    "test = pd.read_csv('test.csv')\n",
    "\n",
    "# 1A How many training and test data points are there?\n",
    "\n",
    "print(f\"Number of training data points: {train.shape[0]}\")\n",
    "print(f\"Number of test data points: {test.shape[0]}\")"
   ]
  },
  {
   "cell_type": "code",
   "execution_count": 2,
   "metadata": {},
   "outputs": [
    {
     "name": "stdout",
     "output_type": "stream",
     "text": [
      "the percentage of real disasters in the training set is: 42.97 % \n",
      "the percentage of tweets that are not actual disasters in the training set is: 57.03%\n"
     ]
    }
   ],
   "source": [
    "# 1A what percentage of the training tweets are real disasters and are not?\n",
    "\n",
    "percent_real = (train[\"target\"].sum()/ train.shape[0]) * 100\n",
    "print(f\"the percentage of real disasters in the training set is: {round(percent_real, 2)} % \")\n",
    "print(f\"the percentage of tweets that are not actual disasters in the training set is: {round(100 - percent_real,2)}%\")\n",
    "\n"
   ]
  },
  {
   "cell_type": "code",
   "execution_count": 3,
   "metadata": {},
   "outputs": [],
   "source": [
    "# 1b Split the training data set into a training set and development set 70/30\n",
    "\n",
    "training_split = train.sample(frac = .70)\n",
    "development_split = train.drop(training_split.index)"
   ]
  },
  {
   "cell_type": "code",
   "execution_count": 4,
   "metadata": {},
   "outputs": [],
   "source": [
    "# 1C - remove all Twitter tags\n",
    "\n",
    "\n",
    "training_split['text'] = training_split['text'].replace(r'@[A-Za-z0-9]+', '', regex=True)\n",
    "development_split['text'] = development_split['text'].replace(r'@[A-Za-z0-9]+', '', regex=True)"
   ]
  },
  {
   "cell_type": "code",
   "execution_count": 5,
   "metadata": {},
   "outputs": [],
   "source": [
    "# 1C Preprocess the data\n",
    "\n",
    "# 1C - overting all letters to lowercase\n",
    "training_split['text'] = training_split.text.apply(lambda x: x.lower())\n",
    "development_split['text'] = development_split.text.apply(lambda x: x.lower())"
   ]
  },
  {
   "cell_type": "code",
   "execution_count": 6,
   "metadata": {},
   "outputs": [],
   "source": [
    "# 1C -  remove all special characters and punctuation\n",
    "\n",
    "training_split['text'] = training_split['text'].replace(r'[^\\w\\s]|_', '', regex=True)\n",
    "development_split['text'] = development_split['text'].replace(r'[^\\w\\s]|_', '', regex=True)\n"
   ]
  },
  {
   "cell_type": "code",
   "execution_count": 7,
   "metadata": {},
   "outputs": [],
   "source": [
    "# 1C - remove all URLS (e.g. https and www.)\n",
    "\n",
    "training_split['text'] = training_split['text'].replace(r'http\\S+|www.\\.\\S+', '', regex=True)\n",
    "development_split['text'] = development_split['text'].replace(r'http\\S+|www.\\.\\S+', '', regex=True)"
   ]
  },
  {
   "cell_type": "code",
   "execution_count": 8,
   "metadata": {},
   "outputs": [],
   "source": [
    "# 1C - strip all the stop words (e.g. the, and, or)\n",
    "\n",
    "\n",
    "training_split['text'] = training_split['text'].replace(r'(\\s*\\b(?:a|an|and|are|as|at|be|but|by|for|if|in|into|is|it|no|not|of|on|or|such|that|the|their|then|there|these|they|this|to|was|will|with|my|oh|i|were|werent|was|wasnt|do|does))\\b', '', regex=True)\n",
    "development_split['text'] = development_split['text'].replace(r'(\\s*\\b(?:a|an|and|are|as|at|be|but|by|for|if|in|into|is|it|no|not|of|on|or|such|that|the|their|then|there|these|they|this|to|was|will|with|my|oh|i|were|werent|was|wasnt|do|does))\\b', '', regex=True)\n"
   ]
  },
  {
   "cell_type": "code",
   "execution_count": 9,
   "metadata": {},
   "outputs": [
    {
     "name": "stderr",
     "output_type": "stream",
     "text": [
      "[nltk_data] Downloading package punkt to\n",
      "[nltk_data]     /Users/joshuamisir/nltk_data...\n",
      "[nltk_data]   Package punkt is already up-to-date!\n",
      "[nltk_data] Downloading package averaged_perceptron_tagger to\n",
      "[nltk_data]     /Users/joshuamisir/nltk_data...\n",
      "[nltk_data]   Package averaged_perceptron_tagger is already up-to-\n",
      "[nltk_data]       date!\n",
      "[nltk_data] Downloading package wordnet to\n",
      "[nltk_data]     /Users/joshuamisir/nltk_data...\n",
      "[nltk_data]   Package wordnet is already up-to-date!\n"
     ]
    }
   ],
   "source": [
    "# 1C - Lemmatize all the words\n",
    "\n",
    "import nltk\n",
    "nltk.download('punkt')\n",
    "nltk.download('averaged_perceptron_tagger')\n",
    "nltk.download('wordnet')\n",
    "from nltk.corpus import wordnet\n",
    "from nltk import tokenize, stem, corpus\n",
    "\n",
    "\n",
    "lemmatizer = stem.WordNetLemmatizer()\n",
    "\n",
    "# Get the POS Tag for lemmatization (reference: https://medium.com/@yashj302/lemmatization-f134b3089429 )\n",
    "def get_wordnet_pos(word):\n",
    "    tag = nltk.pos_tag([word])[0][1][0].lower()\n",
    "    tag_dict = {'j': corpus.wordnet.ADJ,\n",
    "                'n': corpus.wordnet.NOUN,\n",
    "                'v': corpus.wordnet.VERB,\n",
    "                'r': corpus.wordnet.ADV}\n",
    "    return tag_dict.get(tag, corpus.wordnet.NOUN)\n",
    "\n",
    "# apply lemmatizer on the text column\n",
    "training_split['text'] = training_split.text.apply(lambda x: ' '.join([lemmatizer.lemmatize(y, get_wordnet_pos(y)) for y in tokenize.word_tokenize(x)]))\n",
    "development_split['text'] = development_split.text.apply(lambda x: ' '.join([lemmatizer.lemmatize(y, get_wordnet_pos(y)) for y in tokenize.word_tokenize(x)]))\n"
   ]
  },
  {
   "cell_type": "code",
   "execution_count": 10,
   "metadata": {},
   "outputs": [],
   "source": [
    "# 1d) Bag of words model & determining optimal M\n",
    "\n",
    "f1_trainlist = []\n",
    "f1_devlist = []\n",
    "\n",
    "# threshold for bag of words \n",
    "for M in range(12, 30):\n",
    "\n",
    "# Perform CountVectorizer on text. This creates three numbers:\n",
    "# 1) list of rows which represent tweets\n",
    "# 2) a feature index which represents a distinct word within that tweet \n",
    "# 3) a count which represents how many times that word has been used\n",
    "    \n",
    "    count_vect = CountVectorizer(binary=True, min_df=M)\n",
    "    X_train = count_vect.fit_transform(training_split['text'])\n",
    "\n",
    "    # need to make dev set transformed to fit X_train size\n",
    "    X_dev = count_vect.transform(development_split['text'])\n",
    "\n",
    "    # create logistic model\n",
    "    logreg = LogisticRegression(multi_class='auto', penalty='none', max_iter=3000)\n",
    "    logreg.fit(X_train, training_split['target'].values)\n",
    "\n",
    "    # calculate F1 score\n",
    "    f1_train = f1_score(training_split['target'].values, logreg.predict(X_train))\n",
    "    f1_dev = f1_score(development_split['target'].values, logreg.predict(X_dev))\n",
    "\n",
    "    f1_trainlist.append(f1_train)\n",
    "    f1_devlist.append(f1_dev)\n",
    "\n",
    "\n",
    "count_vect1 = CountVectorizer(binary=True, min_df=12)\n",
    "X_train1 = count_vect1.fit_transform(training_split['text'])"
   ]
  },
  {
   "cell_type": "code",
   "execution_count": null,
   "metadata": {},
   "outputs": [],
   "source": []
  },
  {
   "cell_type": "code",
   "execution_count": 11,
   "metadata": {},
   "outputs": [
    {
     "name": "stdout",
     "output_type": "stream",
     "text": [
      "907\n"
     ]
    }
   ],
   "source": [
    "print(len(count_vect1.vocabulary_.keys()))"
   ]
  },
  {
   "cell_type": "code",
   "execution_count": 12,
   "metadata": {},
   "outputs": [
    {
     "data": {
      "image/png": "[encoded data removed]",
      "text/plain": [
       "<Figure size 432x288 with 1 Axes>"
      ]
     },
     "metadata": {
      "needs_background": "light"
     },
     "output_type": "display_data"
    }
   ],
   "source": [
    "# plot to determine optimal M\n",
    "plt.plot(range(12, 30), f1_trainlist, label=\"Training Set\")\n",
    "plt.plot(range(12, 30), f1_devlist, label=\"Dev Set\")\n",
    "plt.xlabel(\"M Threshold\")\n",
    "plt.ylabel(\"F1-Score\")\n",
    "leg = plt.legend(loc='upper right')\n",
    "plt.show()\n",
    "\n",
    "# F1-Dev Score is maxed at ~M = 13"
   ]
  },
  {
   "cell_type": "code",
   "execution_count": null,
   "metadata": {},
   "outputs": [],
   "source": []
  },
  {
   "cell_type": "code",
   "execution_count": 13,
   "metadata": {},
   "outputs": [],
   "source": [
    "M = 13\n",
    "\n",
    "# Perform CountVectorizer on text\n",
    "count_vect = CountVectorizer(binary=True, min_df=M)\n",
    "X_train = count_vect.fit_transform(training_split['text'])\n",
    "\n",
    "# need to make dev set transformed to fit X_train size\n",
    "X_dev = count_vect.transform(development_split['text'])"
   ]
  },
  {
   "cell_type": "code",
   "execution_count": 14,
   "metadata": {},
   "outputs": [
    {
     "name": "stdout",
     "output_type": "stream",
     "text": [
      "Training set with no regularization terms F1-Score is: 0.8299258593574478\n",
      "Development set with no regularization terms F1-Score is: 0.7257203842049094\n"
     ]
    }
   ],
   "source": [
    "# 1e) i - LogisticRegression with no regularization. Penalty = none\n",
    "\n",
    "# The F1 score on the training set is higher than the F1 score on the development set which contains unseen data\n",
    "# This is an example of  overfitting. \n",
    "# Our model is too strongly fitted to the training data when there is no regularization in the Logistic Regression\n",
    "# This is due to the fact that there is no regularization factor in this logistic regression.\n",
    "# The lack of regularization makes this model too sensative to the \"noise\" (data points that dont truly represent the data) \n",
    "# in the data set\n",
    "\n",
    "logreg = LogisticRegression(multi_class='ovr', penalty='none', max_iter=2500)\n",
    "logreg.fit(X_train, training_split['target'].values)\n",
    "\n",
    "# calculate F1 score\n",
    "f1_train = f1_score(training_split['target'].values, logreg.predict(X_train))\n",
    "f1_dev = f1_score(development_split['target'].values, logreg.predict(X_dev))\n",
    "\n",
    "\n",
    "# print F1 values out\n",
    "#print(f\"Training set with no regularization terms F1-Score is: {round(f1_train,3)}\")\n",
    "#print(f\"Development set with no regularization terms F1-Score is: {round(f1_dev,3)}\")\n",
    "\n",
    "print(f\"Training set with no regularization terms F1-Score is: {f1_train}\")\n",
    "print(f\"Development set with no regularization terms F1-Score is: {f1_dev}\")"
   ]
  },
  {
   "cell_type": "code",
   "execution_count": 15,
   "metadata": {},
   "outputs": [
    {
     "name": "stdout",
     "output_type": "stream",
     "text": [
      "Training set with L2 regularization F1-Score is 0.8034306907742236\n",
      "Development set with L2 regularization F1-Score is 0.7252867285636264\n"
     ]
    }
   ],
   "source": [
    "# 1e) ii - LogisticRegression with L1 regularization. \n",
    "\n",
    "\n",
    "logreg1 = LogisticRegression(penalty='l1', max_iter=2500, solver='liblinear')\n",
    "logreg1.fit(X_train, training_split['target'].values)\n",
    "\n",
    "# calculate F1 score\n",
    "f1_train_reg1 = f1_score(training_split['target'].values, logreg1.predict(X_train))\n",
    "f1_dev_reg1 = f1_score(development_split['target'].values, logreg1.predict(X_dev))\n",
    "\n",
    "\n",
    "#print F1 values out\n",
    "print(f\"Training set with L2 regularization F1-Score is {f1_train_reg1}\")\n",
    "print(f\"Development set with L2 regularization F1-Score is {f1_dev_reg1}\")"
   ]
  },
  {
   "cell_type": "code",
   "execution_count": 16,
   "metadata": {},
   "outputs": [
    {
     "name": "stdout",
     "output_type": "stream",
     "text": [
      "Training set with L2 regularization F1-Score is 0.8091497227356746\n",
      "Development set with L2 regularization F1-Score is 0.7351174221736756\n"
     ]
    }
   ],
   "source": [
    "# 1e) iii - LogisticRegression with L2 regularization. \n",
    "\n",
    "\n",
    "logreg2 = LogisticRegression(penalty='l2', max_iter=2500)\n",
    "logreg2.fit(X_train, training_split['target'].values)\n",
    "\n",
    "# calculate F1 score\n",
    "f1_train_reg2 = f1_score(training_split['target'].values, logreg2.predict(X_train))\n",
    "f1_dev_reg2 = f1_score(development_split['target'].values, logreg2.predict(X_dev))\n",
    "\n",
    "\n",
    "#print F1 values out\n",
    "print(f\"Training set with L2 regularization F1-Score is {f1_train_reg2}\")\n",
    "print(f\"Development set with L2 regularization F1-Score is {f1_dev_reg2}\")"
   ]
  },
  {
   "cell_type": "code",
   "execution_count": 17,
   "metadata": {},
   "outputs": [],
   "source": [
    "# 1e) iv - Which one of the three classifiers performed the best on your training and development set?\n",
    "\n",
    "# The best performing model on both the training and development set was the \n",
    "# Logistic Regression with L2 regularization. \n",
    "# The superior outcomes for this logistic regression can best be explained by the fact that L2\n",
    "# squares the magnitude of the coeffecicients whereas the L1 regularization takes the absolute value\n",
    "# of the coeffecients\n"
   ]
  },
  {
   "cell_type": "code",
   "execution_count": 18,
   "metadata": {},
   "outputs": [
    {
     "name": "stdout",
     "output_type": "stream",
     "text": [
      "['derailment', 'drought', 'earthquake', 'hiroshima', 'massacre', 'typhoon', 'wildfire']\n"
     ]
    }
   ],
   "source": [
    "# 1e) v.  Inspect weight vector of classifier with L1 regularization\n",
    "\n",
    "# retrieve index from coefficiets that are greater than a value\n",
    "impt_index = [i for i,v in enumerate(logreg2.coef_.tolist()[0]) if v > 2]\n",
    "\n",
    "# map the index to the actual words\n",
    "impt_words = [count_vect.get_feature_names()[i] for i in impt_index]\n",
    "\n",
    "# The most important words in determining if the Tweet was a real disaster\n",
    "print(impt_words)\n"
   ]
  },
  {
   "cell_type": "code",
   "execution_count": null,
   "metadata": {},
   "outputs": [],
   "source": []
  },
  {
   "cell_type": "code",
   "execution_count": 19,
   "metadata": {},
   "outputs": [
    {
     "name": "stdout",
     "output_type": "stream",
     "text": [
      "[0.56821167 0.43178833]\n"
     ]
    }
   ],
   "source": [
    "#1f) Bernoulli Naive Bayes\n",
    "\n",
    "# laplace smoothing parameter\n",
    "alpha = .01\n",
    "\n",
    "# create array of target values\n",
    "y_train = training_split['target'].values\n",
    "\n",
    "# convert Xtrain to array for manipulation\n",
    "X_train = X_train.toarray()\n",
    "n = X_train.shape[0]    # size of the data set\n",
    "d = X_train.shape[1]    # number of features in the data set\n",
    "K = 2                   #number of classes (Real/not real disasters)\n",
    "\n",
    "# initialize shapes of parameters\n",
    "\n",
    "#An array with two rows (classes, K) and 798 cols (features, d)\n",
    "psis = np.zeros([K,d]) \n",
    "\n",
    "# An array with K (2) number of rows\n",
    "phis = np.zeros([K])\n",
    "\n",
    "\n",
    "# calculate the parameters, and apply alpha\n",
    "for k in range(K):\n",
    "    X_k = X_train[y_train == k]\n",
    "    psis[k] = (np.sum(X_k, axis=0) + alpha)/(X_k.shape[0] + 2*alpha)\n",
    "    phis[k] = X_k.shape[0] / float(n)\n",
    "    \n",
    "print(phis)"
   ]
  },
  {
   "cell_type": "code",
   "execution_count": 20,
   "metadata": {},
   "outputs": [
    {
     "data": {
      "text/plain": [
       "0.8151623193844999"
      ]
     },
     "execution_count": 20,
     "metadata": {},
     "output_type": "execute_result"
    }
   ],
   "source": [
    "def nb_predictions(x, psis, phis):\n",
    "    \"\"\"This returns class assignments and scores under the NB model.\n",
    "    \n",
    "    We compute \\arg\\max_y p(y|x) as \\arg\\max_y p(x|y)p(y)\n",
    "    \"\"\"\n",
    "    # adjust shapes\n",
    "    n, d = x.shape\n",
    "    x = np.reshape(x, (1, n, d))\n",
    "    psis = np.reshape(psis, (K, 1, d))\n",
    "    \n",
    "    # clip probabilities to avoid log(0)\n",
    "    psis = psis.clip(1e-14, 1-1e-14)\n",
    "    \n",
    "    # compute log-probabilities\n",
    "    logpy = np.log(phis).reshape([K,1])\n",
    "    logpxy = x * np.log(psis) + (1-x) * np.log(1-psis)\n",
    "    logpyx = logpxy.sum(axis=2) + logpy\n",
    "\n",
    "    return logpyx.argmax(axis=0).flatten(), logpyx.reshape([K,n])\n",
    "\n",
    "idx_train, logpyx_train = nb_predictions(X_train, psis, phis)\n",
    "\n",
    "\n",
    "(idx_train==y_train).mean()"
   ]
  },
  {
   "cell_type": "code",
   "execution_count": 21,
   "metadata": {},
   "outputs": [
    {
     "data": {
      "text/plain": [
       "0.7915936952714536"
      ]
     },
     "execution_count": 21,
     "metadata": {},
     "output_type": "execute_result"
    }
   ],
   "source": [
    "\n",
    "# calculate the predictions for dev set\n",
    "\n",
    "y_dev = development_split['target'].values\n",
    "\n",
    "# convert Xtrain to array for manipulation\n",
    "X_dev = X_dev.toarray()\n",
    "\n",
    "idx_dev, logpyx_train = nb_predictions(X_dev, psis, phis)\n",
    "\n",
    "# calculate the accurary\n",
    "(idx_dev==y_dev).mean()\n",
    "\n"
   ]
  },
  {
   "cell_type": "code",
   "execution_count": 22,
   "metadata": {},
   "outputs": [],
   "source": [
    "# Which model performed the best in predicting whether a tweet is of a real disaster or\n",
    "# not? Include your performance metric in your response. \n",
    "# Comment on the pros and cons of using generative vs discriminative models. \n",
    "# • Think about the assumptions that Naive Bayes makes. \n",
    "# How are the assumptions different from logistic regressions? Discuss whether it’s valid and efficient to use Bernoulli\n",
    "# Naive Bayes classifier for natural language texts.\n",
    "\n",
    "\n",
    "\n",
    "# 1g) The Naive Bayes model produced a better result with an accuracy rate of 80% vs. Logistic regression, which had \n",
    "# a F1-score of 72%. \n",
    "# However, NB method assumes that all the words are not correlated, which isn't true. This results in the probabilities\n",
    "# being overconfidenti n its predictions. It's valid to use Bernoulli NB classifier if the feature space is small, as it'll\n",
    "# reduce the number of instances of dependent features. Otherwise, if the feature space is large, Logistic regression is better\n",
    "\n",
    "# This can be measuered in practice. For example if you have a classification problem where you are attempting to\n",
    "# classify what city a news article is being published for, either Boston or New York. Lets assume Boston \n",
    "# and New York are refenced equally throughout the text in their respective classes. \"New York\" will contribute\n",
    "# twice the weight as one instance of \"Boston\". The summed contribution of the classification weights may be larger\n",
    "# for one class than another which will cause the NB model to favor one class over the other. \n",
    "\n",
    "\n",
    "\n",
    "\n",
    "\n",
    "\n",
    "# One issue with Naive Bayes is that if there is unequal representativeness of class representations in the training data \n",
    "# within a binary classification problem, there will be a bias toward that over-represented class. This will degrade accuracy \n",
    "\n",
    "# Another assumption is that Naive Bayes assumes that words are idependent and identically distributed which \n",
    "# is a faulty assumption and is not the case in practice. \n",
    "# Certain pairs of words within sentences have a high likelihood of being seen together\n",
    "# which reduces the strength of the identical, independent distrubtion Naive Bayes makes. \n",
    "\n",
    "# \n"
   ]
  },
  {
   "cell_type": "code",
   "execution_count": 30,
   "metadata": {},
   "outputs": [],
   "source": [
    "# Rebuild dataset and re-train on NB with 2-grams\n",
    "\n",
    "h_train = pd.read_csv('train.csv')\n",
    "h_test = pd.read_csv('test.csv')\n",
    "\n",
    "# Pre-processing the data\n",
    "\n",
    "# remove all lowercase from the tweet\n",
    "h_train['text'] = h_train.text.apply(lambda x: x.lower())\n",
    "h_test['text'] = h_test.text.apply(lambda x: x.lower())\n",
    "\n",
    "# remove all Twitter tags\n",
    "h_train['text'] = h_train['text'].replace(r'@[A-Za-z0-9]+', '', regex=True)\n",
    "h_test['text'] = h_test['text'].replace(r'@[A-Za-z0-9]+', '', regex=True)\n",
    "\n",
    "# remove all special characters, including punctuation\n",
    "h_train['text'] = h_train['text'].replace(r'[^\\w\\s]|_', '', regex=True)\n",
    "h_test['text'] = h_test['text'].replace(r'[^\\w\\s]|_', '', regex=True)\n",
    "\n",
    "# remove all URLs\n",
    "h_train['text'] = h_train['text'].replace(r'http\\S+|www.\\.\\S+', '', regex=True)\n",
    "h_test['text'] = h_test['text'].replace(r'http\\S+|www.\\.\\S+', '', regex=True)\n",
    "\n",
    "# strip all the stop words (e.g. the, and, or)\n",
    "h_train['text'] = h_train['text'].replace(r'(\\s*\\b(?:a|an|and|are|as|at|be|but|by|for|if|in|into|is|it|no|not|of|on|or|such|that|the|their|then|there|these|they|this|to|was|will|with|my|oh|i|were|werent|was|wasnt|do|does))\\b', '', regex=True)\n",
    "h_test['text'] = h_test['text'].replace(r'(\\s*\\b(?:a|an|and|are|as|at|be|but|by|for|if|in|into|is|it|no|not|of|on|or|such|that|the|their|then|there|these|they|this|to|was|will|with|my|oh|i|were|werent|was|wasnt|do|does))\\b', '', regex=True)\n",
    "\n",
    "# lemmatize the words\n",
    "h_train['text'] = h_train.text.apply(lambda x: ' '.join([lemmatizer.lemmatize(y, get_wordnet_pos(y)) for y in tokenize.word_tokenize(x)]))\n",
    "h_test['text'] = h_test.text.apply(lambda x: ' '.join([lemmatizer.lemmatize(y, get_wordnet_pos(y)) for y in tokenize.word_tokenize(x)]))\n",
    "\n"
   ]
  },
  {
   "cell_type": "code",
   "execution_count": 24,
   "metadata": {},
   "outputs": [
    {
     "data": {
      "text/plain": [
       "0.8188624720872192"
      ]
     },
     "execution_count": 24,
     "metadata": {},
     "output_type": "execute_result"
    }
   ],
   "source": [
    "# 1h) countvector with n-grams = 1,2\n",
    "\n",
    "count_vect = CountVectorizer(binary=True,ngram_range=(1,2), min_df=12)\n",
    "X_train = count_vect.fit_transform(h_train['text'])\n",
    "X_test = count_vect.transform(h_test['text'])\n",
    "\n",
    "# NB on the training data\n",
    "\n",
    "# create array of target values\n",
    "Y_train = h_train['target'].values\n",
    "\n",
    "# convert Xtrain to array for manipulation\n",
    "X_train = X_train.toarray()\n",
    "n = X_train.shape[0]  # size of the data set (number of tweets)\n",
    "d = X_train.shape[1]  # number of features in the data set\n",
    "K = 2                 # number of classes we are classification classes\n",
    "\n",
    "# initialize shapes of parameters\n",
    "psis = np.zeros([K,d])\n",
    "phis = np.zeros([K])\n",
    "\n",
    "# calculate the parameters, and apply alpha\n",
    "for k in range(K):\n",
    "    X_k = X_train[Y_train == k]\n",
    "    psis[k] = (np.sum(X_k, axis=0) + alpha)/(X_k.shape[0] + 2*alpha)\n",
    "    phis[k] = X_k.shape[0] / float(n)\n",
    "\n",
    "idx_train, logpyx_train = nb_predictions(X_train, psis, phis)\n",
    "\n",
    "# calculate the accurary\n",
    "(idx_train==Y_train).mean() "
   ]
  },
  {
   "cell_type": "code",
   "execution_count": 38,
   "metadata": {},
   "outputs": [
    {
     "ename": "IndexError",
     "evalue": "index (7593) out of range",
     "output_type": "error",
     "traceback": [
      "\u001b[0;31m---------------------------------------------------------------------------\u001b[0m",
      "\u001b[0;31mIndexError\u001b[0m                                Traceback (most recent call last)",
      "\u001b[0;32m<ipython-input-38-ecaee38ddf05>\u001b[0m in \u001b[0;36m<module>\u001b[0;34m\u001b[0m\n\u001b[1;32m     20\u001b[0m \u001b[0;31m# calculate the parameters, and apply alpha\u001b[0m\u001b[0;34m\u001b[0m\u001b[0;34m\u001b[0m\u001b[0;34m\u001b[0m\u001b[0m\n\u001b[1;32m     21\u001b[0m \u001b[0;32mfor\u001b[0m \u001b[0mk\u001b[0m \u001b[0;32min\u001b[0m \u001b[0mrange\u001b[0m\u001b[0;34m(\u001b[0m\u001b[0mK\u001b[0m\u001b[0;34m)\u001b[0m\u001b[0;34m:\u001b[0m\u001b[0;34m\u001b[0m\u001b[0;34m\u001b[0m\u001b[0m\n\u001b[0;32m---> 22\u001b[0;31m     \u001b[0mX_k\u001b[0m \u001b[0;34m=\u001b[0m \u001b[0mX_test\u001b[0m\u001b[0;34m[\u001b[0m\u001b[0mY_train\u001b[0m \u001b[0;34m==\u001b[0m \u001b[0mk\u001b[0m\u001b[0;34m]\u001b[0m\u001b[0;34m\u001b[0m\u001b[0;34m\u001b[0m\u001b[0m\n\u001b[0m\u001b[1;32m     23\u001b[0m     \u001b[0mpsis\u001b[0m\u001b[0;34m[\u001b[0m\u001b[0mk\u001b[0m\u001b[0;34m]\u001b[0m \u001b[0;34m=\u001b[0m \u001b[0;34m(\u001b[0m\u001b[0mnp\u001b[0m\u001b[0;34m.\u001b[0m\u001b[0msum\u001b[0m\u001b[0;34m(\u001b[0m\u001b[0mX_k\u001b[0m\u001b[0;34m,\u001b[0m \u001b[0maxis\u001b[0m\u001b[0;34m=\u001b[0m\u001b[0;36m0\u001b[0m\u001b[0;34m)\u001b[0m \u001b[0;34m+\u001b[0m \u001b[0malpha\u001b[0m\u001b[0;34m)\u001b[0m\u001b[0;34m/\u001b[0m\u001b[0;34m(\u001b[0m\u001b[0mX_k\u001b[0m\u001b[0;34m.\u001b[0m\u001b[0mshape\u001b[0m\u001b[0;34m[\u001b[0m\u001b[0;36m0\u001b[0m\u001b[0;34m]\u001b[0m \u001b[0;34m+\u001b[0m \u001b[0;36m2\u001b[0m\u001b[0;34m*\u001b[0m\u001b[0malpha\u001b[0m\u001b[0;34m)\u001b[0m\u001b[0;34m\u001b[0m\u001b[0;34m\u001b[0m\u001b[0m\n\u001b[1;32m     24\u001b[0m     \u001b[0mphis\u001b[0m\u001b[0;34m[\u001b[0m\u001b[0mk\u001b[0m\u001b[0;34m]\u001b[0m \u001b[0;34m=\u001b[0m \u001b[0mX_k\u001b[0m\u001b[0;34m.\u001b[0m\u001b[0mshape\u001b[0m\u001b[0;34m[\u001b[0m\u001b[0;36m0\u001b[0m\u001b[0;34m]\u001b[0m \u001b[0;34m/\u001b[0m \u001b[0mfloat\u001b[0m\u001b[0;34m(\u001b[0m\u001b[0mn\u001b[0m\u001b[0;34m)\u001b[0m\u001b[0;34m\u001b[0m\u001b[0;34m\u001b[0m\u001b[0m\n",
      "\u001b[0;32m~/opt/anaconda3/lib/python3.7/site-packages/scipy/sparse/_index.py\u001b[0m in \u001b[0;36m__getitem__\u001b[0;34m(self, key)\u001b[0m\n\u001b[1;32m     33\u001b[0m     \"\"\"\n\u001b[1;32m     34\u001b[0m     \u001b[0;32mdef\u001b[0m \u001b[0m__getitem__\u001b[0m\u001b[0;34m(\u001b[0m\u001b[0mself\u001b[0m\u001b[0;34m,\u001b[0m \u001b[0mkey\u001b[0m\u001b[0;34m)\u001b[0m\u001b[0;34m:\u001b[0m\u001b[0;34m\u001b[0m\u001b[0;34m\u001b[0m\u001b[0m\n\u001b[0;32m---> 35\u001b[0;31m         \u001b[0mrow\u001b[0m\u001b[0;34m,\u001b[0m \u001b[0mcol\u001b[0m \u001b[0;34m=\u001b[0m \u001b[0mself\u001b[0m\u001b[0;34m.\u001b[0m\u001b[0m_validate_indices\u001b[0m\u001b[0;34m(\u001b[0m\u001b[0mkey\u001b[0m\u001b[0;34m)\u001b[0m\u001b[0;34m\u001b[0m\u001b[0;34m\u001b[0m\u001b[0m\n\u001b[0m\u001b[1;32m     36\u001b[0m         \u001b[0;31m# Dispatch to specialized methods.\u001b[0m\u001b[0;34m\u001b[0m\u001b[0;34m\u001b[0m\u001b[0;34m\u001b[0m\u001b[0m\n\u001b[1;32m     37\u001b[0m         \u001b[0;32mif\u001b[0m \u001b[0misinstance\u001b[0m\u001b[0;34m(\u001b[0m\u001b[0mrow\u001b[0m\u001b[0;34m,\u001b[0m \u001b[0mINT_TYPES\u001b[0m\u001b[0;34m)\u001b[0m\u001b[0;34m:\u001b[0m\u001b[0;34m\u001b[0m\u001b[0;34m\u001b[0m\u001b[0m\n",
      "\u001b[0;32m~/opt/anaconda3/lib/python3.7/site-packages/scipy/sparse/_index.py\u001b[0m in \u001b[0;36m_validate_indices\u001b[0;34m(self, key)\u001b[0m\n\u001b[1;32m    137\u001b[0m                 \u001b[0mrow\u001b[0m \u001b[0;34m+=\u001b[0m \u001b[0mM\u001b[0m\u001b[0;34m\u001b[0m\u001b[0;34m\u001b[0m\u001b[0m\n\u001b[1;32m    138\u001b[0m         \u001b[0;32melif\u001b[0m \u001b[0;32mnot\u001b[0m \u001b[0misinstance\u001b[0m\u001b[0;34m(\u001b[0m\u001b[0mrow\u001b[0m\u001b[0;34m,\u001b[0m \u001b[0mslice\u001b[0m\u001b[0;34m)\u001b[0m\u001b[0;34m:\u001b[0m\u001b[0;34m\u001b[0m\u001b[0;34m\u001b[0m\u001b[0m\n\u001b[0;32m--> 139\u001b[0;31m             \u001b[0mrow\u001b[0m \u001b[0;34m=\u001b[0m \u001b[0mself\u001b[0m\u001b[0;34m.\u001b[0m\u001b[0m_asindices\u001b[0m\u001b[0;34m(\u001b[0m\u001b[0mrow\u001b[0m\u001b[0;34m,\u001b[0m \u001b[0mM\u001b[0m\u001b[0;34m)\u001b[0m\u001b[0;34m\u001b[0m\u001b[0;34m\u001b[0m\u001b[0m\n\u001b[0m\u001b[1;32m    140\u001b[0m \u001b[0;34m\u001b[0m\u001b[0m\n\u001b[1;32m    141\u001b[0m         \u001b[0;32mif\u001b[0m \u001b[0misintlike\u001b[0m\u001b[0;34m(\u001b[0m\u001b[0mcol\u001b[0m\u001b[0;34m)\u001b[0m\u001b[0;34m:\u001b[0m\u001b[0;34m\u001b[0m\u001b[0;34m\u001b[0m\u001b[0m\n",
      "\u001b[0;32m~/opt/anaconda3/lib/python3.7/site-packages/scipy/sparse/_index.py\u001b[0m in \u001b[0;36m_asindices\u001b[0;34m(self, idx, length)\u001b[0m\n\u001b[1;32m    169\u001b[0m         \u001b[0mmax_indx\u001b[0m \u001b[0;34m=\u001b[0m \u001b[0mx\u001b[0m\u001b[0;34m.\u001b[0m\u001b[0mmax\u001b[0m\u001b[0;34m(\u001b[0m\u001b[0;34m)\u001b[0m\u001b[0;34m\u001b[0m\u001b[0;34m\u001b[0m\u001b[0m\n\u001b[1;32m    170\u001b[0m         \u001b[0;32mif\u001b[0m \u001b[0mmax_indx\u001b[0m \u001b[0;34m>=\u001b[0m \u001b[0mlength\u001b[0m\u001b[0;34m:\u001b[0m\u001b[0;34m\u001b[0m\u001b[0;34m\u001b[0m\u001b[0m\n\u001b[0;32m--> 171\u001b[0;31m             \u001b[0;32mraise\u001b[0m \u001b[0mIndexError\u001b[0m\u001b[0;34m(\u001b[0m\u001b[0;34m'index (%d) out of range'\u001b[0m \u001b[0;34m%\u001b[0m \u001b[0mmax_indx\u001b[0m\u001b[0;34m)\u001b[0m\u001b[0;34m\u001b[0m\u001b[0;34m\u001b[0m\u001b[0m\n\u001b[0m\u001b[1;32m    172\u001b[0m \u001b[0;34m\u001b[0m\u001b[0m\n\u001b[1;32m    173\u001b[0m         \u001b[0mmin_indx\u001b[0m \u001b[0;34m=\u001b[0m \u001b[0mx\u001b[0m\u001b[0;34m.\u001b[0m\u001b[0mmin\u001b[0m\u001b[0;34m(\u001b[0m\u001b[0;34m)\u001b[0m\u001b[0;34m\u001b[0m\u001b[0;34m\u001b[0m\u001b[0m\n",
      "\u001b[0;31mIndexError\u001b[0m: index (7593) out of range"
     ]
    }
   ],
   "source": [
    "\n",
    "count_vect = CountVectorizer(binary=True,ngram_range=(1,2), min_df=12)\n",
    "X_train = count_vect.fit_transform(h_train['text'])\n",
    "X_test = count_vect.transform(h_test['text'])\n",
    "\n",
    "# NB on the training data\n",
    "\n",
    "# create array of target values\n",
    "Y_train = h_train['target'].values\n",
    "\n",
    "# convert Xtrain to array for manipulation\n",
    "X_train = X_train.toarray()\n",
    "n = X_train.shape[0]  # size of the data set (number of tweets)\n",
    "d = X_train.shape[1]  # number of features in the data set\n",
    "K = 2                 # number of classes we are classification classes\n",
    "\n",
    "# initialize shapes of parameters\n",
    "psis = np.zeros([K,d])\n",
    "phis = np.zeros([K])\n",
    "\n",
    "# calculate the parameters, and apply alpha\n",
    "for k in range(K):\n",
    "    X_k = X_test[Y_train == k]\n",
    "    psis[k] = (np.sum(X_k, axis=0) + alpha)/(X_k.shape[0] + 2*alpha)\n",
    "    phis[k] = X_k.shape[0] / float(n)\n",
    "\n",
    "idx_train, logpyx_train = nb_predictions(X_test, psis, phis)\n",
    "\n",
    "# calculate the accurary\n",
    "(idx_train==Y_train).mean()"
   ]
  },
  {
   "cell_type": "code",
   "execution_count": 28,
   "metadata": {},
   "outputs": [],
   "source": [
    "#print(len(count_vect.vocabulary_.keys()))"
   ]
  },
  {
   "cell_type": "code",
   "execution_count": 25,
   "metadata": {},
   "outputs": [],
   "source": [
    "# convert Xtrain to array for manipulation\n",
    "X_test = X_test.toarray()\n",
    "\n",
    "idx_test, logpyx_test= nb_predictions(X_test, psis, phis)"
   ]
  },
  {
   "cell_type": "code",
   "execution_count": 26,
   "metadata": {},
   "outputs": [],
   "source": [
    "# create submission\n",
    "h_test[\"target\"] = idx_test\n",
    "submission = h_test[[\"id\",\"target\"]]\n",
    "submission.to_csv('submission_disastertweets.csv', index=False)"
   ]
  },
  {
   "cell_type": "code",
   "execution_count": null,
   "metadata": {},
   "outputs": [],
   "source": []
  },
  {
   "cell_type": "code",
   "execution_count": null,
   "metadata": {},
   "outputs": [],
   "source": []
  },
  {
   "cell_type": "code",
   "execution_count": null,
   "metadata": {},
   "outputs": [],
   "source": []
  },
  {
   "cell_type": "code",
   "execution_count": null,
   "metadata": {},
   "outputs": [],
   "source": []
  }
 ],
 "metadata": {
  "kernelspec": {
   "display_name": "Python 3",
   "language": "python",
   "name": "python3"
  },
  "language_info": {
   "codemirror_mode": {
    "name": "ipython",
    "version": 3
   },
   "file_extension": ".py",
   "mimetype": "text/x-python",
   "name": "python",
   "nbconvert_exporter": "python",
   "pygments_lexer": "ipython3",
   "version": "3.7.6"
  }
 },
 "nbformat": 4,
 "nbformat_minor": 4
}
